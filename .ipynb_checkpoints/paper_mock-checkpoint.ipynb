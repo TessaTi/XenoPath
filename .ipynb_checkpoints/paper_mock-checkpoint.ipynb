{
 "cells": [
  {
   "cell_type": "markdown",
   "metadata": {},
   "source": [
    "## Created mock community\n",
    "\n",
    "List file with downloaded genomes. "
   ]
  },
  {
   "cell_type": "code",
   "execution_count": 3,
   "metadata": {},
   "outputs": [
    {
     "name": "stdout",
     "output_type": "stream",
     "text": [
      "Molecular name\tAssembly\tGENBANK\tRefSeq sequence\tOrganism\tTaxonomy\n",
      "Chromosome\tGCA_000005845.2\tU00096.3\tNC_000913.3\tEscherichia coli str. K-12 substr MG1655\tBacteria; Proteobacteria; Gammaproteobacteria; Enterobacterales; Enterobacteriaceae; Escherichia; Escherichia coli; Escherichia coli K-12\n",
      "Chromosome\tGCA_000010425.1\tAP009256.1\tNC_008618.1\tBifidobacterium adolescentis ATCC 15703\tBacteria; Terrabacteria group; Actinobacteria; Actinobacteria; Bifidobacteriales; Bifidobacteriaceae; Bifidobacterium; Bifidobacterium adolescentis\n",
      "Chromosome\tGCA_000011065.1\tAE015928.1\tNC_004663.1\tBacteroides thetaiotaomicron VPI-5482 (CFB group bacteria)\tBacteria; FCB group; Bacteroidetes/Chlorobi group; Bacteroidetes; Bacteroidia; Bacteroidales; Bacteroidaceae; Bacteroides; Bacteroides thetaiotaomicron\n",
      "Plasmid p5482\tGCA_000011065.1\tAY171301.1\tNC_004703.1\tBacteroides thetaiotaomicron VPI-5482 (CFB group bacteria)\tBacteria; FCB group; Bacteroidetes/Chlorobi group; Bacteroidetes; Bacteroidia; Bacteroidales; Bacteroidaceae; Bacteroides; Bacteroides thetaiotaomicron\n",
      "Chromosome\tGCA_000020225.1\tCP001071.1\tNC_010655.1\tAkkermansia muciniphila ATCC BAA-835 (verrucomicrobia)\tBacteria; PVC group; Verrucomicrobia; Verrucomicrobiae; Verrucomicrobiales; Akkermansiaceae; Akkermansia; Akkermansia muciniphila\n",
      "Chromosome\tGCA_000020605.1\tCP001107.1\tNC_012781.1\t[Eubacterium] rectale ATCC 33656 (firmicutes)\tBacteria; Terrabacteria group; Firmicutes; Clostridia; Clostridiales; Lachnospiraceae; unclassified Lachnospiraceae; [Eubacterium] rectale\n",
      "Scaffold\tGCA_000157935.1\tGG703875.1\tNA\tPrevotella copri DSM 18205 (CFB group bacteria)\tBacteria; FCB group; Bacteroidetes/Chlorobi group; Bacteroidetes; Bacteroidia; Bacteroidales; Prevotellaceae; Prevotella; Prevotella copri\n",
      "Contig\tGCA_000169035.1\tAAVN02000020.1\tNA\tCollinsella aerofaciens ATCC 25986 (actinobacteria)\tBacteria; Terrabacteria group; Actinobacteria; Coriobacteriia; Coriobacteriales; Coriobacteriaceae; Collinsella; Collinsella aerofaciens\n",
      "Contig\tGCA_000169235.1\tAAXA02000016.1\t\tDorea formicigenerans ATCC 27755 (firmicutes)\tBacteria; Terrabacteria group; Firmicutes; Clostridia; Clostridiales; Lachnospiraceae; Dorea; Dorea formicigenerans\n"
     ]
    }
   ],
   "source": [
    "%%bash\n",
    "head /home/teresa/Code2_micro/Xenopath_tool_0/Mock_community.txt"
   ]
  },
  {
   "cell_type": "code",
   "execution_count": null,
   "metadata": {},
   "outputs": [],
   "source": [
    "### Create randomly set of reads (n = 10 000 000)"
   ]
  },
  {
   "cell_type": "code",
   "execution_count": null,
   "metadata": {},
   "outputs": [],
   "source": [
    "randomreads.sh ref=/home/teresa/Progetti/Mock_ncbi/mock_all.fna.gz out=/home/teresa/Progetti/Mock_ncbi/out_random_reads_mock.fa length=100 reads=10000000 simplename=t"
   ]
  },
  {
   "cell_type": "code",
   "execution_count": 5,
   "metadata": {},
   "outputs": [
    {
     "name": "stdout",
     "output_type": "stream",
     "text": [
      "10000000\n"
     ]
    }
   ],
   "source": [
    "%%bash\n",
    "cat /home/teresa/Progetti/Mock_ncbi/out_random_reads_mock.fa | grep '^>' | wc -l"
   ]
  },
  {
   "cell_type": "markdown",
   "metadata": {},
   "source": [
    "## Real number of reads for each genome"
   ]
  },
  {
   "cell_type": "code",
   "execution_count": 53,
   "metadata": {},
   "outputs": [
    {
     "name": "stdout",
     "output_type": "stream",
     "text": [
      "Akkermansia muciniphila 349975\n",
      "Alistipes finegoldii 491650\n",
      "Bacteroides thetaiotaomicron VPI-5482 830669\n",
      "Bifidobacterium adolescentis 274658\n",
      "Bifidobacterium longum 307528\n",
      "Blautia hansenii 404787\n",
      "Christensenella sp. Marseille-P2437 348722\n",
      "Clostridium perfringens 454528\n",
      "Collinsella aerofaciens 321081\n",
      "Coprococcus catus 455144\n",
      "Desulfovibrio sp. 555727\n",
      "Dorea formicigenerans 419140\n",
      "Dorea formicigenerans 419140\n",
      "Escherichia coli 612236\n",
      "Faecalibacterium 414983\n",
      "Prevotella copri 461016\n",
      "Roseburia intestinalis 546838\n",
      "Ruminococcus albus 589520\n",
      "Ruminococcus bromii 300012\n",
      "Ruminococcus obeum 485051\n",
      "Ruminococcus torques 431658\n",
      "Eubacterium] rectale 454888\n",
      "Ruminococcus] gnavus 490189\n"
     ]
    }
   ],
   "source": [
    "%%bash \n",
    "fin=/home/teresa/Progetti/Mock_ncbi/out_random_reads_mock.fa\n",
    "glist='Akkermansia muciniphila,Alistipes finegoldii,Bacteroides thetaiotaomicron VPI-5482,Bifidobacterium adolescentis,Bifidobacterium longum,Blautia hansenii,Christensenella sp. Marseille-P2437,Clostridium perfringens,Collinsella aerofaciens,Coprococcus catus,Desulfovibrio sp.,Dorea formicigenerans,Escherichia coli,Faecalibacterium,Prevotella copri,Roseburia intestinalis,Ruminococcus albus,Ruminococcus bromii,Ruminococcus obeum,Ruminococcus torques,Eubacterium] rectale,Ruminococcus] gnavus'\n",
    "IFS=, \n",
    "for i in $glist; do\n",
    "    echo -n $i;echo -n ' ';echo $(cat /home/teresa/Progetti/Mock_ncbi/out_random_reads_mock.fa | grep $i | wc -l);\n",
    "done"
   ]
  },
  {
   "cell_type": "markdown",
   "metadata": {},
   "source": [
    "## Annotated number of reads for each genome with Kaiju"
   ]
  }
 ],
 "metadata": {
  "kernelspec": {
   "display_name": "Python [conda env:.conda-mg_pipeline_env] *",
   "language": "python",
   "name": "conda-env-.conda-mg_pipeline_env-py"
  },
  "language_info": {
   "codemirror_mode": {
    "name": "ipython",
    "version": 3
   },
   "file_extension": ".py",
   "mimetype": "text/x-python",
   "name": "python",
   "nbconvert_exporter": "python",
   "pygments_lexer": "ipython3",
   "version": "3.6.7"
  }
 },
 "nbformat": 4,
 "nbformat_minor": 2
}
